{
  "nbformat": 4,
  "nbformat_minor": 0,
  "metadata": {
    "colab": {
      "provenance": [],
      "authorship_tag": "ABX9TyMHuhk99i27+0JDCGM/N8yF",
      "include_colab_link": true
    },
    "kernelspec": {
      "name": "python3",
      "display_name": "Python 3"
    },
    "language_info": {
      "name": "python"
    }
  },
  "cells": [
    {
      "cell_type": "markdown",
      "metadata": {
        "id": "view-in-github",
        "colab_type": "text"
      },
      "source": [
        "<a href=\"https://colab.research.google.com/github/kszymon/convnet/blob/main/basics%20/03_metrics_loss_function.ipynb\" target=\"_parent\"><img src=\"https://colab.research.google.com/assets/colab-badge.svg\" alt=\"Open In Colab\"/></a>"
      ]
    },
    {
      "cell_type": "markdown",
      "source": [
        "## Accuracy - Dokładność klasyfikacji\n",
        "\n",
        "##   $Accuracy = \\frac{correct\\ predictions}{total\\ predictions} * 100$"
      ],
      "metadata": {
        "id": "cxcdYvNS68gz"
      }
    },
    {
      "cell_type": "code",
      "source": [
        "import numpy as np\n",
        "\n",
        "y_true = np.array([1, 0, 1, 1, 0, 1])\n",
        "y_pred = np.array([0, 0, 1, 1, 0, 1])\n",
        "\n",
        "def accuracy(y_true, y_pred):\n",
        "    correct = 0\n",
        "    for i in range(len(y_true)):\n",
        "        if y_true[i] == y_pred[i]:\n",
        "            correct += 1\n",
        "    return correct / len(y_true) * 100"
      ],
      "metadata": {
        "id": "_yTzyAYf6-IA"
      },
      "execution_count": 1,
      "outputs": []
    },
    {
      "cell_type": "code",
      "source": [
        "accuracy(y_true, y_pred)"
      ],
      "metadata": {
        "colab": {
          "base_uri": "https://localhost:8080/"
        },
        "id": "9Dn6MT_H8oxl",
        "outputId": "88e57d39-1de6-4fdd-c413-ddb99d66ff8c"
      },
      "execution_count": 2,
      "outputs": [
        {
          "output_type": "execute_result",
          "data": {
            "text/plain": [
              "83.33333333333334"
            ]
          },
          "metadata": {},
          "execution_count": 2
        }
      ]
    },
    {
      "cell_type": "markdown",
      "source": [
        "## Entropia rozkładu prawdopodobieństwa\n",
        "\n",
        "##  $Entropy = - \\sum_{i}p_{i} * log(p_{i})$\n",
        "\n",
        "Gdzie $p_{i}$ to prawdopodobieństwo zajścia $i$-tego zdarzenia. Entropia charakteryzuje mozliwośc oddawania informacji przez żródło.  Inaczej jest to miara nieokresloności/niepewności. Średnie zdziwienie (wartość oczekiwana zdziwienia)"
      ],
      "metadata": {
        "id": "jhlQPdFW9LjL"
      }
    },
    {
      "cell_type": "code",
      "source": [
        "def entropy(labels, base=None):\n",
        "    from math import log, e\n",
        "    n_labels = len(labels)\n",
        "\n",
        "    if n_labels <= 1:\n",
        "        return 0\n",
        "\n",
        "    value, counts = np.unique(labels, return_counts=True)\n",
        "    probs = counts / n_labels\n",
        "    n_classes = np.count_nonzero(probs)\n",
        "\n",
        "    if n_classes <= 1:\n",
        "        return 0\n",
        "\n",
        "    ent = 0.\n",
        "\n",
        "    base = e if base is None else base\n",
        "    for i in probs:\n",
        "        ent -= i * log(i, base)\n",
        "    return ent\n",
        "\n",
        "\n",
        "labels = [1,3,5,2,3,5,3,2,1,3,4,5]\n",
        "entropy(labels)"
      ],
      "metadata": {
        "colab": {
          "base_uri": "https://localhost:8080/"
        },
        "id": "NsFzfcky9MXH",
        "outputId": "4437480e-2f41-4780-9d35-abe7c5832408"
      },
      "execution_count": 3,
      "outputs": [
        {
          "output_type": "execute_result",
          "data": {
            "text/plain": [
              "np.float64(1.5171063970610277)"
            ]
          },
          "metadata": {},
          "execution_count": 3
        }
      ]
    },
    {
      "cell_type": "markdown",
      "source": [
        "## Binary Crossentropy - Binarna Entropia Krzyzowa\n",
        "\n",
        "##  $Binary\\ CrossEntropy = -y_{true}*log(y_{pred}) - (1-y_{true}) * log(1-y_{pred})$"
      ],
      "metadata": {
        "id": "zhOE_-RZAG2c"
      }
    },
    {
      "cell_type": "code",
      "source": [
        "def binary_crossentropy(y_true, y_pred):\n",
        "    y_pred = np.clip(y_pred, 0.0000001, 1-0.0000001)\n",
        "    return -y_true * np.log(y_pred) - (1-y_true) * np.log(1-y_pred)"
      ],
      "metadata": {
        "id": "M3ATmXOXAHqb"
      },
      "execution_count": 4,
      "outputs": []
    },
    {
      "cell_type": "code",
      "source": [
        "y_true = np.array([1, 0, 1, 1, 0, 1, 0])\n",
        "y_pred = np.array([0, 0, 1, 1, 0, 1, 1])\n",
        "\n",
        "binary_crossentropy(y_true, y_pred)"
      ],
      "metadata": {
        "colab": {
          "base_uri": "https://localhost:8080/"
        },
        "id": "osRmr38kA-DO",
        "outputId": "2298c61b-e251-4f81-d1b9-86e88957a1af"
      },
      "execution_count": 5,
      "outputs": [
        {
          "output_type": "execute_result",
          "data": {
            "text/plain": [
              "array([1.61180957e+01, 1.00000005e-07, 1.00000005e-07, 1.00000005e-07,\n",
              "       1.00000005e-07, 1.00000005e-07, 1.61180957e+01])"
            ]
          },
          "metadata": {},
          "execution_count": 5
        }
      ]
    },
    {
      "cell_type": "markdown",
      "source": [
        "## Categorical Crossentropy - Kategoryczna Entropia Krzyzowa\n",
        "\n",
        "##  $Categorical\\ CrossEntropy= - \\sum_{i}y_{true} * log(y_{pred}) $"
      ],
      "metadata": {
        "id": "EcSe-HIWC0bT"
      }
    },
    {
      "cell_type": "code",
      "source": [
        "def categorical_crossentropy(y_true, y_pred):\n",
        "    y_pred = np.clip(y_pred, 0.0000001, 1-0.0000001)\n",
        "    return -np.sum(y_true * np.log(y_pred))"
      ],
      "metadata": {
        "id": "-eKVe0ndC1ke"
      },
      "execution_count": 6,
      "outputs": []
    },
    {
      "cell_type": "code",
      "source": [
        "y_true = np.array([1, 0, 0, 0, 0])\n",
        "y_pred = np.array([0.4, 0.3, 0.05, 0.05, 0.2])\n",
        "\n",
        "categorical_crossentropy(y_true, y_pred)"
      ],
      "metadata": {
        "colab": {
          "base_uri": "https://localhost:8080/"
        },
        "id": "43wOUXo_C49d",
        "outputId": "33c9dd33-f264-4379-fde2-a47e564d0e93"
      },
      "execution_count": 7,
      "outputs": [
        {
          "output_type": "execute_result",
          "data": {
            "text/plain": [
              "np.float64(0.916290731874155)"
            ]
          },
          "metadata": {},
          "execution_count": 7
        }
      ]
    },
    {
      "cell_type": "code",
      "source": [
        "y_true = np.array([1, 0, 0, 0, 0])\n",
        "y_pred = np.array([0.98, 0.01, 0.0, 0.0, 0.01])\n",
        "\n",
        "categorical_crossentropy(y_true, y_pred)"
      ],
      "metadata": {
        "colab": {
          "base_uri": "https://localhost:8080/"
        },
        "id": "IyLZI9RRV_HV",
        "outputId": "dd9b995a-dad2-49c0-f464-941f366a0041"
      },
      "execution_count": 8,
      "outputs": [
        {
          "output_type": "execute_result",
          "data": {
            "text/plain": [
              "np.float64(0.020202707317519466)"
            ]
          },
          "metadata": {},
          "execution_count": 8
        }
      ]
    },
    {
      "cell_type": "code",
      "source": [
        "y_true = np.array([[1, 0, 0, 0, 0],\n",
        "                  [0, 0, 0, 1, 0],\n",
        "                  [1, 0, 0, 0, 0]])\n",
        "y_pred = np.array([[0.4, 0.3, 0.05, 0.05, 0.2],\n",
        "                  [0.05, 0.2, 0.0, 0.7, 0.05],\n",
        "                  [0.98, 0.01, 0.0, 0.0, 0.01]])\n",
        "\n",
        "categorical_crossentropy(y_true, y_pred)"
      ],
      "metadata": {
        "colab": {
          "base_uri": "https://localhost:8080/"
        },
        "id": "c1vj0gZLWoil",
        "outputId": "6e45a0bb-35c9-4a29-81f9-e60f9a18dfd5"
      },
      "execution_count": 9,
      "outputs": [
        {
          "output_type": "execute_result",
          "data": {
            "text/plain": [
              "np.float64(1.293168383130407)"
            ]
          },
          "metadata": {},
          "execution_count": 9
        }
      ]
    }
  ]
}